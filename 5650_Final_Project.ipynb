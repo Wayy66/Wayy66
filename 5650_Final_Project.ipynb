{
  "nbformat": 4,
  "nbformat_minor": 0,
  "metadata": {
    "colab": {
      "provenance": [],
      "authorship_tag": "ABX9TyOkH2nQbQVM0TEFmM71nkAh",
      "include_colab_link": true
    },
    "kernelspec": {
      "name": "python3",
      "display_name": "Python 3"
    },
    "language_info": {
      "name": "python"
    }
  },
  "cells": [
    {
      "cell_type": "markdown",
      "metadata": {
        "id": "view-in-github",
        "colab_type": "text"
      },
      "source": [
        "<a href=\"https://colab.research.google.com/github/Wayy66/Wayy66/blob/main/5650_Final_Project.ipynb\" target=\"_parent\"><img src=\"https://colab.research.google.com/assets/colab-badge.svg\" alt=\"Open In Colab\"/></a>"
      ]
    },
    {
      "cell_type": "code",
      "execution_count": null,
      "metadata": {
        "colab": {
          "base_uri": "https://localhost:8080/",
          "height": 73
        },
        "id": "CWyxGt_S1i2U",
        "outputId": "e5661532-d34e-4520-8f18-a36f6889f35e"
      },
      "outputs": [
        {
          "output_type": "display_data",
          "data": {
            "text/plain": [
              "<IPython.core.display.HTML object>"
            ],
            "text/html": [
              "\n",
              "     <input type=\"file\" id=\"files-dcf7bfb6-c24b-4543-9142-db29614f1e53\" name=\"files[]\" multiple disabled\n",
              "        style=\"border:none\" />\n",
              "     <output id=\"result-dcf7bfb6-c24b-4543-9142-db29614f1e53\">\n",
              "      Upload widget is only available when the cell has been executed in the\n",
              "      current browser session. Please rerun this cell to enable.\n",
              "      </output>\n",
              "      <script>// Copyright 2017 Google LLC\n",
              "//\n",
              "// Licensed under the Apache License, Version 2.0 (the \"License\");\n",
              "// you may not use this file except in compliance with the License.\n",
              "// You may obtain a copy of the License at\n",
              "//\n",
              "//      http://www.apache.org/licenses/LICENSE-2.0\n",
              "//\n",
              "// Unless required by applicable law or agreed to in writing, software\n",
              "// distributed under the License is distributed on an \"AS IS\" BASIS,\n",
              "// WITHOUT WARRANTIES OR CONDITIONS OF ANY KIND, either express or implied.\n",
              "// See the License for the specific language governing permissions and\n",
              "// limitations under the License.\n",
              "\n",
              "/**\n",
              " * @fileoverview Helpers for google.colab Python module.\n",
              " */\n",
              "(function(scope) {\n",
              "function span(text, styleAttributes = {}) {\n",
              "  const element = document.createElement('span');\n",
              "  element.textContent = text;\n",
              "  for (const key of Object.keys(styleAttributes)) {\n",
              "    element.style[key] = styleAttributes[key];\n",
              "  }\n",
              "  return element;\n",
              "}\n",
              "\n",
              "// Max number of bytes which will be uploaded at a time.\n",
              "const MAX_PAYLOAD_SIZE = 100 * 1024;\n",
              "\n",
              "function _uploadFiles(inputId, outputId) {\n",
              "  const steps = uploadFilesStep(inputId, outputId);\n",
              "  const outputElement = document.getElementById(outputId);\n",
              "  // Cache steps on the outputElement to make it available for the next call\n",
              "  // to uploadFilesContinue from Python.\n",
              "  outputElement.steps = steps;\n",
              "\n",
              "  return _uploadFilesContinue(outputId);\n",
              "}\n",
              "\n",
              "// This is roughly an async generator (not supported in the browser yet),\n",
              "// where there are multiple asynchronous steps and the Python side is going\n",
              "// to poll for completion of each step.\n",
              "// This uses a Promise to block the python side on completion of each step,\n",
              "// then passes the result of the previous step as the input to the next step.\n",
              "function _uploadFilesContinue(outputId) {\n",
              "  const outputElement = document.getElementById(outputId);\n",
              "  const steps = outputElement.steps;\n",
              "\n",
              "  const next = steps.next(outputElement.lastPromiseValue);\n",
              "  return Promise.resolve(next.value.promise).then((value) => {\n",
              "    // Cache the last promise value to make it available to the next\n",
              "    // step of the generator.\n",
              "    outputElement.lastPromiseValue = value;\n",
              "    return next.value.response;\n",
              "  });\n",
              "}\n",
              "\n",
              "/**\n",
              " * Generator function which is called between each async step of the upload\n",
              " * process.\n",
              " * @param {string} inputId Element ID of the input file picker element.\n",
              " * @param {string} outputId Element ID of the output display.\n",
              " * @return {!Iterable<!Object>} Iterable of next steps.\n",
              " */\n",
              "function* uploadFilesStep(inputId, outputId) {\n",
              "  const inputElement = document.getElementById(inputId);\n",
              "  inputElement.disabled = false;\n",
              "\n",
              "  const outputElement = document.getElementById(outputId);\n",
              "  outputElement.innerHTML = '';\n",
              "\n",
              "  const pickedPromise = new Promise((resolve) => {\n",
              "    inputElement.addEventListener('change', (e) => {\n",
              "      resolve(e.target.files);\n",
              "    });\n",
              "  });\n",
              "\n",
              "  const cancel = document.createElement('button');\n",
              "  inputElement.parentElement.appendChild(cancel);\n",
              "  cancel.textContent = 'Cancel upload';\n",
              "  const cancelPromise = new Promise((resolve) => {\n",
              "    cancel.onclick = () => {\n",
              "      resolve(null);\n",
              "    };\n",
              "  });\n",
              "\n",
              "  // Wait for the user to pick the files.\n",
              "  const files = yield {\n",
              "    promise: Promise.race([pickedPromise, cancelPromise]),\n",
              "    response: {\n",
              "      action: 'starting',\n",
              "    }\n",
              "  };\n",
              "\n",
              "  cancel.remove();\n",
              "\n",
              "  // Disable the input element since further picks are not allowed.\n",
              "  inputElement.disabled = true;\n",
              "\n",
              "  if (!files) {\n",
              "    return {\n",
              "      response: {\n",
              "        action: 'complete',\n",
              "      }\n",
              "    };\n",
              "  }\n",
              "\n",
              "  for (const file of files) {\n",
              "    const li = document.createElement('li');\n",
              "    li.append(span(file.name, {fontWeight: 'bold'}));\n",
              "    li.append(span(\n",
              "        `(${file.type || 'n/a'}) - ${file.size} bytes, ` +\n",
              "        `last modified: ${\n",
              "            file.lastModifiedDate ? file.lastModifiedDate.toLocaleDateString() :\n",
              "                                    'n/a'} - `));\n",
              "    const percent = span('0% done');\n",
              "    li.appendChild(percent);\n",
              "\n",
              "    outputElement.appendChild(li);\n",
              "\n",
              "    const fileDataPromise = new Promise((resolve) => {\n",
              "      const reader = new FileReader();\n",
              "      reader.onload = (e) => {\n",
              "        resolve(e.target.result);\n",
              "      };\n",
              "      reader.readAsArrayBuffer(file);\n",
              "    });\n",
              "    // Wait for the data to be ready.\n",
              "    let fileData = yield {\n",
              "      promise: fileDataPromise,\n",
              "      response: {\n",
              "        action: 'continue',\n",
              "      }\n",
              "    };\n",
              "\n",
              "    // Use a chunked sending to avoid message size limits. See b/62115660.\n",
              "    let position = 0;\n",
              "    do {\n",
              "      const length = Math.min(fileData.byteLength - position, MAX_PAYLOAD_SIZE);\n",
              "      const chunk = new Uint8Array(fileData, position, length);\n",
              "      position += length;\n",
              "\n",
              "      const base64 = btoa(String.fromCharCode.apply(null, chunk));\n",
              "      yield {\n",
              "        response: {\n",
              "          action: 'append',\n",
              "          file: file.name,\n",
              "          data: base64,\n",
              "        },\n",
              "      };\n",
              "\n",
              "      let percentDone = fileData.byteLength === 0 ?\n",
              "          100 :\n",
              "          Math.round((position / fileData.byteLength) * 100);\n",
              "      percent.textContent = `${percentDone}% done`;\n",
              "\n",
              "    } while (position < fileData.byteLength);\n",
              "  }\n",
              "\n",
              "  // All done.\n",
              "  yield {\n",
              "    response: {\n",
              "      action: 'complete',\n",
              "    }\n",
              "  };\n",
              "}\n",
              "\n",
              "scope.google = scope.google || {};\n",
              "scope.google.colab = scope.google.colab || {};\n",
              "scope.google.colab._files = {\n",
              "  _uploadFiles,\n",
              "  _uploadFilesContinue,\n",
              "};\n",
              "})(self);\n",
              "</script> "
            ]
          },
          "metadata": {}
        },
        {
          "output_type": "stream",
          "name": "stdout",
          "text": [
            "Saving diabetes.csv to diabetes.csv\n"
          ]
        }
      ],
      "source": [
        "from google.colab import files\n",
        "uploaded = files.upload()"
      ]
    },
    {
      "cell_type": "markdown",
      "source": [
        "# Part 1 - Import Data"
      ],
      "metadata": {
        "id": "wlrT2tkQYqZI"
      }
    },
    {
      "cell_type": "code",
      "source": [
        "import numpy as np\n",
        "import pandas as pd\n",
        "import matplotlib.pyplot as plt\n",
        "import seaborn as sns\n",
        "from sklearn.linear_model import LinearRegression\n",
        "import statsmodels.api as sm\n",
        "import warnings\n",
        "warnings.filterwarnings('ignore')\n",
        "sns.set()\n",
        "rand_state=1000"
      ],
      "metadata": {
        "id": "G218bIXYiBzL"
      },
      "execution_count": null,
      "outputs": []
    },
    {
      "cell_type": "code",
      "execution_count": null,
      "metadata": {
        "colab": {
          "base_uri": "https://localhost:8080/"
        },
        "id": "qxhgnUWMhoMa",
        "outputId": "0da57659-d17b-44e7-ee43-89a7ff20823b"
      },
      "outputs": [
        {
          "output_type": "stream",
          "name": "stdout",
          "text": [
            "<class 'pandas.core.frame.DataFrame'>\n",
            "RangeIndex: 253680 entries, 0 to 253679\n",
            "Data columns (total 22 columns):\n",
            " #   Column                Non-Null Count   Dtype  \n",
            "---  ------                --------------   -----  \n",
            " 0   Diabetes_012          253680 non-null  float64\n",
            " 1   HighBP                253680 non-null  float64\n",
            " 2   HighChol              253680 non-null  float64\n",
            " 3   CholCheck             253680 non-null  float64\n",
            " 4   BMI                   253680 non-null  float64\n",
            " 5   Smoker                253680 non-null  float64\n",
            " 6   Stroke                253680 non-null  float64\n",
            " 7   HeartDiseaseorAttack  253680 non-null  float64\n",
            " 8   PhysActivity          253680 non-null  float64\n",
            " 9   Fruits                253680 non-null  float64\n",
            " 10  Veggies               253680 non-null  float64\n",
            " 11  HvyAlcoholConsump     253680 non-null  float64\n",
            " 12  AnyHealthcare         253680 non-null  float64\n",
            " 13  NoDocbcCost           253680 non-null  float64\n",
            " 14  GenHlth               253680 non-null  float64\n",
            " 15  MentHlth              253680 non-null  float64\n",
            " 16  PhysHlth              253680 non-null  float64\n",
            " 17  DiffWalk              253680 non-null  float64\n",
            " 18  Sex                   253680 non-null  float64\n",
            " 19  Age                   253680 non-null  float64\n",
            " 20  Education             253680 non-null  float64\n",
            " 21  Income                253680 non-null  float64\n",
            "dtypes: float64(22)\n",
            "memory usage: 42.6 MB\n",
            "        Diabetes_012  HighBP  HighChol  CholCheck   BMI  Smoker  Stroke  \\\n",
            "0                0.0     1.0       1.0        1.0  40.0     1.0     0.0   \n",
            "1                0.0     0.0       0.0        0.0  25.0     1.0     0.0   \n",
            "2                0.0     1.0       1.0        1.0  28.0     0.0     0.0   \n",
            "3                0.0     1.0       0.0        1.0  27.0     0.0     0.0   \n",
            "4                0.0     1.0       1.0        1.0  24.0     0.0     0.0   \n",
            "...              ...     ...       ...        ...   ...     ...     ...   \n",
            "253675           0.0     1.0       1.0        1.0  45.0     0.0     0.0   \n",
            "253676           2.0     1.0       1.0        1.0  18.0     0.0     0.0   \n",
            "253677           0.0     0.0       0.0        1.0  28.0     0.0     0.0   \n",
            "253678           0.0     1.0       0.0        1.0  23.0     0.0     0.0   \n",
            "253679           2.0     1.0       1.0        1.0  25.0     0.0     0.0   \n",
            "\n",
            "        HeartDiseaseorAttack  PhysActivity  Fruits  ...  AnyHealthcare  \\\n",
            "0                        0.0           0.0     0.0  ...            1.0   \n",
            "1                        0.0           1.0     0.0  ...            0.0   \n",
            "2                        0.0           0.0     1.0  ...            1.0   \n",
            "3                        0.0           1.0     1.0  ...            1.0   \n",
            "4                        0.0           1.0     1.0  ...            1.0   \n",
            "...                      ...           ...     ...  ...            ...   \n",
            "253675                   0.0           0.0     1.0  ...            1.0   \n",
            "253676                   0.0           0.0     0.0  ...            1.0   \n",
            "253677                   0.0           1.0     1.0  ...            1.0   \n",
            "253678                   0.0           0.0     1.0  ...            1.0   \n",
            "253679                   1.0           1.0     1.0  ...            1.0   \n",
            "\n",
            "        NoDocbcCost  GenHlth  MentHlth  PhysHlth  DiffWalk  Sex   Age  \\\n",
            "0               0.0      5.0      18.0      15.0       1.0  0.0   9.0   \n",
            "1               1.0      3.0       0.0       0.0       0.0  0.0   7.0   \n",
            "2               1.0      5.0      30.0      30.0       1.0  0.0   9.0   \n",
            "3               0.0      2.0       0.0       0.0       0.0  0.0  11.0   \n",
            "4               0.0      2.0       3.0       0.0       0.0  0.0  11.0   \n",
            "...             ...      ...       ...       ...       ...  ...   ...   \n",
            "253675          0.0      3.0       0.0       5.0       0.0  1.0   5.0   \n",
            "253676          0.0      4.0       0.0       0.0       1.0  0.0  11.0   \n",
            "253677          0.0      1.0       0.0       0.0       0.0  0.0   2.0   \n",
            "253678          0.0      3.0       0.0       0.0       0.0  1.0   7.0   \n",
            "253679          0.0      2.0       0.0       0.0       0.0  0.0   9.0   \n",
            "\n",
            "        Education  Income  \n",
            "0             4.0     3.0  \n",
            "1             6.0     1.0  \n",
            "2             4.0     8.0  \n",
            "3             3.0     6.0  \n",
            "4             5.0     4.0  \n",
            "...           ...     ...  \n",
            "253675        6.0     7.0  \n",
            "253676        2.0     4.0  \n",
            "253677        5.0     2.0  \n",
            "253678        5.0     1.0  \n",
            "253679        6.0     2.0  \n",
            "\n",
            "[253680 rows x 22 columns]\n"
          ]
        }
      ],
      "source": [
        "df = pd.read_csv('diabetes.csv')\n",
        "# Review datatype for each variables\n",
        "df.info()\n",
        "\n",
        "print(df)"
      ]
    },
    {
      "cell_type": "markdown",
      "source": [
        "# Part 2 - Data Cleaning"
      ],
      "metadata": {
        "id": "YD3nufqeYwTJ"
      }
    },
    {
      "cell_type": "code",
      "source": [
        "# Generate a list to convert variables into factor\n",
        "variables_to_convert = [\n",
        "    'Diabetes_012', 'HighBP', 'HighChol', 'CholCheck', 'Smoker', 'Stroke',\n",
        "    'HeartDiseaseorAttack', 'PhysActivity', 'Fruits', 'Veggies', 'HvyAlcoholConsump',\n",
        "    'AnyHealthcare', 'NoDocbcCost', 'GenHlth', 'DiffWalk', 'Sex', 'Age',\n",
        "    'Education', 'Income'\n",
        "]\n",
        "\n",
        "# Convert variables to categorical factors\n",
        "for variable in variables_to_convert:\n",
        "    df[variable] = df[variable].astype('category')"
      ],
      "metadata": {
        "id": "ewwA0m71XjhI"
      },
      "execution_count": null,
      "outputs": []
    },
    {
      "cell_type": "code",
      "source": [
        "# Check for missing values in each column\n",
        "missing_values = df.isnull().sum()\n",
        "\n",
        "# Print columns with missing values and their corresponding counts\n",
        "print(\"Columns with missing values:\")\n",
        "print(missing_values[missing_values > 0])"
      ],
      "metadata": {
        "colab": {
          "base_uri": "https://localhost:8080/"
        },
        "id": "x4tAoMMsZb8q",
        "outputId": "48ada561-b7bb-4332-93d9-629343b98240"
      },
      "execution_count": null,
      "outputs": [
        {
          "output_type": "stream",
          "name": "stdout",
          "text": [
            "Columns with missing values:\n",
            "Series([], dtype: int64)\n"
          ]
        }
      ]
    },
    {
      "cell_type": "code",
      "source": [
        "# Replace 'Diabetes_012' with the actual column name if different\n",
        "diabetes_counts = df['Diabetes_012'].value_counts()\n",
        "\n",
        "# Print the counts of each class\n",
        "print(\"Class Distribution for Diabetes_012:\")\n",
        "print(diabetes_counts)\n",
        "\n",
        "# Calculate the proportion of each class\n",
        "total_samples = diabetes_counts.sum()\n",
        "class_proportions = diabetes_counts / total_samples\n",
        "\n",
        "# Print the proportions of each class\n",
        "print(\"\\nClass Proportions for Diabetes_012:\")\n",
        "print(class_proportions)"
      ],
      "metadata": {
        "colab": {
          "base_uri": "https://localhost:8080/"
        },
        "id": "JkgarbSD7HqX",
        "outputId": "335670db-126b-4760-da86-25b2a3cc5426"
      },
      "execution_count": null,
      "outputs": [
        {
          "output_type": "stream",
          "name": "stdout",
          "text": [
            "Class Distribution for Diabetes_012:\n",
            "Diabetes_012\n",
            "0.0    213703\n",
            "2.0     35346\n",
            "1.0      4631\n",
            "Name: count, dtype: int64\n",
            "\n",
            "Class Proportions for Diabetes_012:\n",
            "Diabetes_012\n",
            "0.0    0.842412\n",
            "2.0    0.139333\n",
            "1.0    0.018255\n",
            "Name: count, dtype: float64\n"
          ]
        }
      ]
    },
    {
      "cell_type": "markdown",
      "source": [
        "# Part 3 EDA"
      ],
      "metadata": {
        "id": "tUjS3erQEOZ6"
      }
    },
    {
      "cell_type": "code",
      "source": [
        "# Replace values 1 and 2 in 'Diabetes_012' with 1\n",
        "df['Diabetes_012'] = df['Diabetes_012'].replace({1.0: 1, 2.0: 1})\n",
        "\n",
        "# Calculate correlation matrix\n",
        "corr_matrix = df.corr()\n",
        "\n",
        "# Extract correlations of all variables with 'Diabetes_012'\n",
        "diabetes_corr = corr_matrix['Diabetes_012']\n",
        "\n",
        "# Sort correlations in descending order\n",
        "diabetes_corr_sorted = diabetes_corr.abs().sort_values(ascending=False)\n",
        "\n",
        "# Print correlations\n",
        "print(diabetes_corr_sorted)"
      ],
      "metadata": {
        "colab": {
          "base_uri": "https://localhost:8080/"
        },
        "id": "6NfaKACCESHH",
        "outputId": "8d17dafd-8b4d-417a-e59a-56af2fc0667e"
      },
      "execution_count": null,
      "outputs": [
        {
          "output_type": "stream",
          "name": "stdout",
          "text": [
            "Diabetes_012            1.000000\n",
            "GenHlth                 0.300785\n",
            "HighBP                  0.270334\n",
            "BMI                     0.223851\n",
            "DiffWalk                0.222155\n",
            "HighChol                0.210290\n",
            "Age                     0.185891\n",
            "HeartDiseaseorAttack    0.176933\n",
            "PhysHlth                0.174948\n",
            "Income                  0.172794\n",
            "Education               0.131803\n",
            "PhysActivity            0.121392\n",
            "Stroke                  0.104800\n",
            "MentHlth                0.074971\n",
            "CholCheck               0.067879\n",
            "Smoker                  0.062778\n",
            "Veggies                 0.059219\n",
            "HvyAlcoholConsump       0.056682\n",
            "Fruits                  0.042088\n",
            "NoDocbcCost             0.038025\n",
            "Sex                     0.029606\n",
            "AnyHealthcare           0.014079\n",
            "Name: Diabetes_012, dtype: float64\n"
          ]
        }
      ]
    },
    {
      "cell_type": "markdown",
      "source": [
        "\n",
        "\n",
        "```\n",
        "+-------------------------+--------------------+\n",
        "|         Feature         |   Correlation (%) |\n",
        "+-------------------------+--------------------+\n",
        "|         GenHlth         |       30.08        |\n",
        "|          HighBP         |       27.03        |\n",
        "|            BMI          |       22.39        |\n",
        "|         DiffWalk        |       22.22        |\n",
        "|         HighChol        |       21.03        |\n",
        "|            Age          |       18.59        |\n",
        "| HeartDiseaseorAttack    |       17.69        |\n",
        "|         PhysHlth        |       17.50        |\n",
        "|          Income         |       17.28        |\n",
        "|        Education        |       13.18        |\n",
        "|      PhysActivity       |       12.14        |\n",
        "|          Stroke         |       10.48        |\n",
        "|         MentHlth        |        7.50        |\n",
        "|        CholCheck        |        6.79        |\n",
        "|          Smoker         |        6.28        |\n",
        "|         Veggies         |        5.92        |\n",
        "|   HvyAlcoholConsump     |        5.67        |\n",
        "|          Fruits         |        4.21        |\n",
        "|       NoDocbcCost       |        3.80        |\n",
        "|           Sex           |        2.96        |\n",
        "|       AnyHealthcare     |        1.41        |\n",
        "+-------------------------+--------------------+\n",
        "```\n",
        "\n"
      ],
      "metadata": {
        "id": "sodZsN_uFGBL"
      }
    },
    {
      "cell_type": "code",
      "source": [
        "from sklearn.ensemble import RandomForestClassifier\n",
        "import matplotlib.pyplot as plt\n",
        "\n",
        "# Assuming X_train and y_train are your feature and target variables for training\n",
        "# Replace RandomForestClassifier with RandomForestRegressor for regression tasks\n",
        "rf_model = RandomForestClassifier()\n",
        "rf_model.fit(X_train, y_train)\n",
        "\n",
        "# Get feature importances\n",
        "feature_importances = rf_model.feature_importances_\n",
        "\n",
        "# Create a DataFrame to store feature importances\n",
        "importance_df = pd.DataFrame({'Feature': X_train.columns, 'Importance': feature_importances})\n",
        "\n",
        "# Sort the DataFrame by importance values in descending order\n",
        "importance_df = importance_df.sort_values(by='Importance', ascending=False)\n",
        "\n",
        "# Plot feature importances\n",
        "plt.figure(figsize=(10, 8))\n",
        "plt.barh(importance_df['Feature'], importance_df['Importance'])\n",
        "plt.xlabel('Importance')\n",
        "plt.ylabel('Feature')\n",
        "plt.title('Feature Importance')\n",
        "plt.show()"
      ],
      "metadata": {
        "colab": {
          "base_uri": "https://localhost:8080/",
          "height": 727
        },
        "id": "pm89iZhTFL8s",
        "outputId": "fa3960ea-0c99-479f-d944-947cc44c193d"
      },
      "execution_count": null,
      "outputs": [
        {
          "output_type": "display_data",
          "data": {
            "text/plain": [
              "<Figure size 1000x800 with 1 Axes>"
            ],
            "image/png": "[encoded data removed]"
          },
          "metadata": {}
        }
      ]
    },
    {
      "cell_type": "code",
      "source": [
        "# Remove specified columns\n",
        "columns_to_remove = ['NoDocbcCost', 'AnyHealthcare', 'HvyAlcoholConsump', 'CholCheck']\n",
        "df = df.drop(columns=columns_to_remove)"
      ],
      "metadata": {
        "id": "9FdH6M3RH-gW"
      },
      "execution_count": null,
      "outputs": []
    },
    {
      "cell_type": "markdown",
      "source": [
        "# Part 4 - Split Training and Testing dataset\n",
        "\n",
        "\n"
      ],
      "metadata": {
        "id": "VeQYlAmbZ04k"
      }
    },
    {
      "cell_type": "code",
      "source": [
        "from sklearn.model_selection import train_test_split\n",
        "\n",
        "# Define X with features and y with target variable\n",
        "X = df.drop('Diabetes_012', axis=1)  # Features\n",
        "y = df['Diabetes_012']                # Target variable\n",
        "\n",
        "# Split the data into train and test sets (70% train, 30% test)\n",
        "X_train, X_test, y_train, y_test = train_test_split(X, y, test_size=0.3, random_state=1000)"
      ],
      "metadata": {
        "id": "5l0ybb_SaUFG"
      },
      "execution_count": null,
      "outputs": []
    },
    {
      "cell_type": "markdown",
      "source": [
        "# Part 5 - Generating RF model"
      ],
      "metadata": {
        "id": "scUKg93nbW8K"
      }
    },
    {
      "cell_type": "code",
      "source": [
        "# Apply random forest model\n",
        "from sklearn.ensemble import RandomForestClassifier\n",
        "\n",
        "# Set class_weight='balanced' to automatically adjust class weights based on class frequencies\n",
        "rf_classifier = RandomForestClassifier(class_weight='balanced')\n",
        "rf_classifier.fit(X_train, y_train)"
      ],
      "metadata": {
        "colab": {
          "base_uri": "https://localhost:8080/",
          "height": 75
        },
        "id": "dW8pbgB3bgUz",
        "outputId": "8d45f37a-c51e-47b3-f174-56bd1ac0216d"
      },
      "execution_count": null,
      "outputs": [
        {
          "output_type": "execute_result",
          "data": {
            "text/plain": [
              "RandomForestClassifier(class_weight='balanced')"
            ],
            "text/html": [
              "<style>#sk-container-id-5 {color: black;background-color: white;}#sk-container-id-5 pre{padding: 0;}#sk-container-id-5 div.sk-toggleable {background-color: white;}#sk-container-id-5 label.sk-toggleable__label {cursor: pointer;display: block;width: 100%;margin-bottom: 0;padding: 0.3em;box-sizing: border-box;text-align: center;}#sk-container-id-5 label.sk-toggleable__label-arrow:before {content: \"▸\";float: left;margin-right: 0.25em;color: #696969;}#sk-container-id-5 label.sk-toggleable__label-arrow:hover:before {color: black;}#sk-container-id-5 div.sk-estimator:hover label.sk-toggleable__label-arrow:before {color: black;}#sk-container-id-5 div.sk-toggleable__content {max-height: 0;max-width: 0;overflow: hidden;text-align: left;background-color: #f0f8ff;}#sk-container-id-5 div.sk-toggleable__content pre {margin: 0.2em;color: black;border-radius: 0.25em;background-color: #f0f8ff;}#sk-container-id-5 input.sk-toggleable__control:checked~div.sk-toggleable__content {max-height: 200px;max-width: 100%;overflow: auto;}#sk-container-id-5 input.sk-toggleable__control:checked~label.sk-toggleable__label-arrow:before {content: \"▾\";}#sk-container-id-5 div.sk-estimator input.sk-toggleable__control:checked~label.sk-toggleable__label {background-color: #d4ebff;}#sk-container-id-5 div.sk-label input.sk-toggleable__control:checked~label.sk-toggleable__label {background-color: #d4ebff;}#sk-container-id-5 input.sk-hidden--visually {border: 0;clip: rect(1px 1px 1px 1px);clip: rect(1px, 1px, 1px, 1px);height: 1px;margin: -1px;overflow: hidden;padding: 0;position: absolute;width: 1px;}#sk-container-id-5 div.sk-estimator {font-family: monospace;background-color: #f0f8ff;border: 1px dotted black;border-radius: 0.25em;box-sizing: border-box;margin-bottom: 0.5em;}#sk-container-id-5 div.sk-estimator:hover {background-color: #d4ebff;}#sk-container-id-5 div.sk-parallel-item::after {content: \"\";width: 100%;border-bottom: 1px solid gray;flex-grow: 1;}#sk-container-id-5 div.sk-label:hover label.sk-toggleable__label {background-color: #d4ebff;}#sk-container-id-5 div.sk-serial::before {content: \"\";position: absolute;border-left: 1px solid gray;box-sizing: border-box;top: 0;bottom: 0;left: 50%;z-index: 0;}#sk-container-id-5 div.sk-serial {display: flex;flex-direction: column;align-items: center;background-color: white;padding-right: 0.2em;padding-left: 0.2em;position: relative;}#sk-container-id-5 div.sk-item {position: relative;z-index: 1;}#sk-container-id-5 div.sk-parallel {display: flex;align-items: stretch;justify-content: center;background-color: white;position: relative;}#sk-container-id-5 div.sk-item::before, #sk-container-id-5 div.sk-parallel-item::before {content: \"\";position: absolute;border-left: 1px solid gray;box-sizing: border-box;top: 0;bottom: 0;left: 50%;z-index: -1;}#sk-container-id-5 div.sk-parallel-item {display: flex;flex-direction: column;z-index: 1;position: relative;background-color: white;}#sk-container-id-5 div.sk-parallel-item:first-child::after {align-self: flex-end;width: 50%;}#sk-container-id-5 div.sk-parallel-item:last-child::after {align-self: flex-start;width: 50%;}#sk-container-id-5 div.sk-parallel-item:only-child::after {width: 0;}#sk-container-id-5 div.sk-dashed-wrapped {border: 1px dashed gray;margin: 0 0.4em 0.5em 0.4em;box-sizing: border-box;padding-bottom: 0.4em;background-color: white;}#sk-container-id-5 div.sk-label label {font-family: monospace;font-weight: bold;display: inline-block;line-height: 1.2em;}#sk-container-id-5 div.sk-label-container {text-align: center;}#sk-container-id-5 div.sk-container {/* jupyter's `normalize.less` sets `[hidden] { display: none; }` but bootstrap.min.css set `[hidden] { display: none !important; }` so we also need the `!important` here to be able to override the default hidden behavior on the sphinx rendered scikit-learn.org. See: https://github.com/scikit-learn/scikit-learn/issues/21755 */display: inline-block !important;position: relative;}#sk-container-id-5 div.sk-text-repr-fallback {display: none;}</style><div id=\"sk-container-id-5\" class=\"sk-top-container\"><div class=\"sk-text-repr-fallback\"><pre>RandomForestClassifier(class_weight=&#x27;balanced&#x27;)</pre><b>In a Jupyter environment, please rerun this cell to show the HTML representation or trust the notebook. <br />On GitHub, the HTML representation is unable to render, please try loading this page with nbviewer.org.</b></div><div class=\"sk-container\" hidden><div class=\"sk-item\"><div class=\"sk-estimator sk-toggleable\"><input class=\"sk-toggleable__control sk-hidden--visually\" id=\"sk-estimator-id-5\" type=\"checkbox\" checked><label for=\"sk-estimator-id-5\" class=\"sk-toggleable__label sk-toggleable__label-arrow\">RandomForestClassifier</label><div class=\"sk-toggleable__content\"><pre>RandomForestClassifier(class_weight=&#x27;balanced&#x27;)</pre></div></div></div></div></div>"
            ]
          },
          "metadata": {},
          "execution_count": 60
        }
      ]
    },
    {
      "cell_type": "code",
      "source": [
        "# Make predictions on the test set\n",
        "y_hat = rf_classifier.predict(X_test)"
      ],
      "metadata": {
        "id": "nSGzIS8skuCZ"
      },
      "execution_count": null,
      "outputs": []
    },
    {
      "cell_type": "code",
      "source": [
        "# Construct DataFrame with y_test and y_hat\n",
        "df_predictions = pd.DataFrame({'y_test': y_test, 'y_hat': y_hat})\n",
        "\n",
        "# Display the DataFrame\n",
        "print(df_predictions)"
      ],
      "metadata": {
        "colab": {
          "base_uri": "https://localhost:8080/"
        },
        "id": "mpD5qx4ozLYc",
        "outputId": "01cb1156-a490-4bcc-efef-092f71fb8abd"
      },
      "execution_count": null,
      "outputs": [
        {
          "output_type": "stream",
          "name": "stdout",
          "text": [
            "       y_test  y_hat\n",
            "244397    0.0    0.0\n",
            "237889    0.0    0.0\n",
            "118029    0.0    0.0\n",
            "95802     0.0    0.0\n",
            "65449     1.0    0.0\n",
            "...       ...    ...\n",
            "69008     0.0    0.0\n",
            "112552    0.0    0.0\n",
            "178070    0.0    0.0\n",
            "251353    0.0    1.0\n",
            "246350    0.0    0.0\n",
            "\n",
            "[76104 rows x 2 columns]\n"
          ]
        }
      ]
    },
    {
      "cell_type": "markdown",
      "source": [
        "# Part 6 - Evaluation"
      ],
      "metadata": {
        "id": "Hi56GQo41bve"
      }
    },
    {
      "cell_type": "code",
      "source": [
        "from sklearn.metrics import confusion_matrix, accuracy_score\n",
        "\n",
        "# Calculate confusion matrix\n",
        "cm = confusion_matrix(y_test, y_hat)\n",
        "\n",
        "# Calculate accuracy\n",
        "accuracy = accuracy_score(y_test, y_hat)\n",
        "\n",
        "print(\"Confusion Matrix:\")\n",
        "print(cm)\n",
        "print(\"\\nAccuracy:\", accuracy)"
      ],
      "metadata": {
        "colab": {
          "base_uri": "https://localhost:8080/"
        },
        "id": "h9zDsfLA1fw8",
        "outputId": "01a59c67-8bf4-4815-9ebc-3437f2266750"
      },
      "execution_count": null,
      "outputs": [
        {
          "output_type": "stream",
          "name": "stdout",
          "text": [
            "Confusion Matrix:\n",
            "[[61493  2501]\n",
            " [ 9865  2245]]\n",
            "\n",
            "Accuracy: 0.8375118259224219\n"
          ]
        }
      ]
    },
    {
      "cell_type": "markdown",
      "source": [
        "\n",
        "\n",
        "```\n",
        "# Evaluation Table\n",
        "+---------------------+-------------------------+-------------------------+\n",
        "|                     |    Predicted Negative   |    Predicted Positive   |\n",
        "+---------------------+-------------------------+-------------------------+\n",
        "|  Actual Negative    |          61493          |           2501          |\n",
        "+---------------------+-------------------------+-------------------------+\n",
        "|  Actual Positive    |          9865           |           2245          |\n",
        "+---------------------+-------------------------+-------------------------+\n",
        "```"
      ],
      "metadata": {
        "id": "A99JP5cE223S"
      }
    },
    {
      "cell_type": "code",
      "source": [
        "# Predict probabilities for each class\n",
        "probabilities = rf_model.predict_proba(X_test)[:, 1]  # Assuming X_test is your test dataset\n",
        "\n",
        "# Adjust threshold to 0.02\n",
        "threshold = 0.2\n",
        "\n",
        "# Make predictions based on the adjusted threshold\n",
        "predictions = (probabilities >= threshold).astype(int)\n",
        "\n",
        "# Print the original confusion matrix\n",
        "print(\"Original Confusion Matrix:\")\n",
        "print(confusion_matrix(y_test, rf_model.predict(X_test)))\n",
        "\n",
        "# Print the confusion matrix with adjusted threshold\n",
        "print(\"\\nConfusion Matrix with Threshold = 0.02:\")\n",
        "print(confusion_matrix(y_test, predictions))"
      ],
      "metadata": {
        "colab": {
          "base_uri": "https://localhost:8080/"
        },
        "id": "t1gEdGSYMUkw",
        "outputId": "a0169ec3-6317-41f2-c78f-755ef434ef79"
      },
      "execution_count": null,
      "outputs": [
        {
          "output_type": "stream",
          "name": "stdout",
          "text": [
            "Original Confusion Matrix:\n",
            "[[61429  2565]\n",
            " [ 9603  2507]]\n",
            "\n",
            "Confusion Matrix with Threshold = 0.02:\n",
            "[[47129 16865]\n",
            " [ 3660  8450]]\n"
          ]
        }
      ]
    }
  ]
}